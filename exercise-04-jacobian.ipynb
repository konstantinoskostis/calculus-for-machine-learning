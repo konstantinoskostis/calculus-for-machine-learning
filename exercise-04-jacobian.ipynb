{
 "cells": [
  {
   "cell_type": "code",
   "execution_count": 1,
   "id": "bccf3566",
   "metadata": {},
   "outputs": [],
   "source": [
    "import math\n",
    "\n",
    "from sympy import exp\n",
    "from sympy.abc import x, y, p, q, r, s, t, u\n",
    "from sympy import Matrix, pprint"
   ]
  },
  {
   "cell_type": "code",
   "execution_count": 2,
   "id": "c9e8b0a4",
   "metadata": {},
   "outputs": [
    {
     "name": "stdout",
     "output_type": "stream",
     "text": [
      "⎡     -p⋅x - q⋅y          -p⋅x - q⋅y   ⎤\n",
      "⎢  p⋅ℯ                 q⋅ℯ             ⎥\n",
      "⎢──────────────────  ──────────────────⎥\n",
      "⎢                 2                   2⎥\n",
      "⎢⎛ -p⋅x - q⋅y    ⎞   ⎛ -p⋅x - q⋅y    ⎞ ⎥\n",
      "⎢⎝ℯ           + 1⎠   ⎝ℯ           + 1⎠ ⎥\n",
      "⎢                                      ⎥\n",
      "⎢     -r⋅x - s⋅y          -r⋅x - s⋅y   ⎥\n",
      "⎢  r⋅ℯ                 s⋅ℯ             ⎥\n",
      "⎢──────────────────  ──────────────────⎥\n",
      "⎢                 2                   2⎥\n",
      "⎢⎛ -r⋅x - s⋅y    ⎞   ⎛ -r⋅x - s⋅y    ⎞ ⎥\n",
      "⎢⎝ℯ           + 1⎠   ⎝ℯ           + 1⎠ ⎥\n",
      "⎢                                      ⎥\n",
      "⎢     -t⋅x - u⋅y          -t⋅x - u⋅y   ⎥\n",
      "⎢  t⋅ℯ                 u⋅ℯ             ⎥\n",
      "⎢──────────────────  ──────────────────⎥\n",
      "⎢                 2                   2⎥\n",
      "⎢⎛ -t⋅x - u⋅y    ⎞   ⎛ -t⋅x - u⋅y    ⎞ ⎥\n",
      "⎣⎝ℯ           + 1⎠   ⎝ℯ           + 1⎠ ⎦\n"
     ]
    }
   ],
   "source": [
    "term_p_q = 1 / (1 + exp(-(p*x + q*y))) \n",
    "term_r_s = 1 / (1 + exp(-(r*x + s*y)))\n",
    "term_t_u = 1 / (1 + exp(-(t*x + u*y)))\n",
    "\n",
    "f = [term_p_q, term_r_s, term_t_u]\n",
    "\n",
    "func = Matrix(f)\n",
    "variables = Matrix([x, y])\n",
    "pprint(func.jacobian(variables))"
   ]
  }
 ],
 "metadata": {
  "kernelspec": {
   "display_name": "Python 3 (ipykernel)",
   "language": "python",
   "name": "python3"
  },
  "language_info": {
   "codemirror_mode": {
    "name": "ipython",
    "version": 3
   },
   "file_extension": ".py",
   "mimetype": "text/x-python",
   "name": "python",
   "nbconvert_exporter": "python",
   "pygments_lexer": "ipython3",
   "version": "3.9.7"
  }
 },
 "nbformat": 4,
 "nbformat_minor": 5
}
