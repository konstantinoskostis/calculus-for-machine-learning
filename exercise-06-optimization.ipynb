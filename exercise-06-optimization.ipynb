{
 "cells": [
  {
   "cell_type": "code",
   "execution_count": 1,
   "id": "38a7408c",
   "metadata": {},
   "outputs": [],
   "source": [
    "import numpy as np\n",
    "import matplotlib.pyplot as plt"
   ]
  },
  {
   "cell_type": "code",
   "execution_count": 2,
   "id": "acb9dfd1",
   "metadata": {},
   "outputs": [],
   "source": [
    "def f(x):\n",
    "    return np.log(x)\n",
    "\n",
    "def df(x):\n",
    "    return 1 / x*np.log(np.e)"
   ]
  },
  {
   "cell_type": "code",
   "execution_count": 3,
   "id": "8a503b90",
   "metadata": {},
   "outputs": [
    {
     "name": "stdout",
     "output_type": "stream",
     "text": [
      "Optimal point: None\n"
     ]
    },
    {
     "data": {
      "image/png": "[encoded data removed]",
      "text/plain": [
       "<Figure size 432x288 with 1 Axes>"
      ]
     },
     "metadata": {
      "needs_background": "light"
     },
     "output_type": "display_data"
    }
   ],
   "source": [
    "x = np.arange(0.1, 100)\n",
    "\n",
    "y = f(x) # blue line\n",
    "dy = df(x) # orange line\n",
    "\n",
    "plt.plot(y)\n",
    "plt.plot(dy)\n",
    "\n",
    "# Find the point where f'(x) is zero (or close to zero)\n",
    "optimal_x = None\n",
    "\n",
    "for x_i in x:\n",
    "    derivative = df(x_i)\n",
    "    if np.isclose(derivative, 0.0001):\n",
    "        optimal_x = x_i\n",
    "        break\n",
    "\n",
    "print(\"Optimal point: {}\".format(optimal_x))"
   ]
  },
  {
   "cell_type": "code",
   "execution_count": 4,
   "id": "9af2e9ad",
   "metadata": {},
   "outputs": [],
   "source": [
    "# From the plot but from the formula of the derivative of log(x) as well, it\n",
    "# can be seen that f'(x) cannot be exactly zero. It will be very very close\n",
    "# to zero for as long as x approaches +Infinity."
   ]
  }
 ],
 "metadata": {
  "kernelspec": {
   "display_name": "Python 3 (ipykernel)",
   "language": "python",
   "name": "python3"
  },
  "language_info": {
   "codemirror_mode": {
    "name": "ipython",
    "version": 3
   },
   "file_extension": ".py",
   "mimetype": "text/x-python",
   "name": "python",
   "nbconvert_exporter": "python",
   "pygments_lexer": "ipython3",
   "version": "3.9.7"
  }
 },
 "nbformat": 4,
 "nbformat_minor": 5
}
