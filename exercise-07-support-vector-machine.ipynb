{
 "cells": [
  {
   "cell_type": "code",
   "execution_count": 1,
   "id": "c8510ca5",
   "metadata": {},
   "outputs": [],
   "source": [
    "import numpy as np\n",
    "from scipy.optimize import minimize"
   ]
  },
  {
   "cell_type": "code",
   "execution_count": 2,
   "id": "f9a4f5af",
   "metadata": {},
   "outputs": [
    {
     "name": "stdout",
     "output_type": "stream",
     "text": [
      "Objective: 0.8888888888888965\n",
      "Solution: [ 0.66666667  0.66666667 -1.        ]\n"
     ]
    }
   ],
   "source": [
    "# line: a*x + b*y + c = 0\n",
    "\n",
    "def objective(w):\n",
    "    return w[0]**2 + w[1]**2\n",
    "\n",
    "def constraint1(w):\n",
    "    \"Inequality for point (0,0)\"\n",
    "    return -1*w[2] - 1\n",
    " \n",
    "def constraint2(w):\n",
    "    \"Inequality for point (1,2)\"\n",
    "    return w[0] + 2*w[1] + w[2] - 1\n",
    " \n",
    "def constraint3(w):\n",
    "    \"Inequality for point (2,1)\"\n",
    "    return 2*w[0] + w[1] + w[2] - 1\n",
    "\n",
    "def constraint4(w):\n",
    "    \"Inequality for point (-1, -1)\"\n",
    "    return -(-1 * w[0] + -1 * w[1] + w[2]) - 1\n",
    "\n",
    "def constraint5(w):\n",
    "    \"Inequality for point (-3, -1)\"\n",
    "    return -(-3 * w[0] + -1 * w[1] + w[2]) - 1\n",
    "\n",
    "def constraint6(w):\n",
    "    \"Inequality for point (3, 3)\"\n",
    "    return (3 * w[0] + 3 * w[1] + w[2]) - 1\n",
    "    \n",
    "# initial guess\n",
    "w0 = np.array([1, 1, 1])\n",
    " \n",
    "# optimize\n",
    "bounds = ((-10,10), (-10,10), (-10,10))\n",
    "constraints = [\n",
    "    {\"type\":\"ineq\", \"fun\":constraint1},\n",
    "    {\"type\":\"ineq\", \"fun\":constraint2},\n",
    "    {\"type\":\"ineq\", \"fun\":constraint3},\n",
    "    {\"type\":\"ineq\", \"fun\":constraint4},\n",
    "    {\"type\":\"ineq\", \"fun\":constraint5},\n",
    "    {\"type\":\"ineq\", \"fun\":constraint6}\n",
    "]\n",
    "\n",
    "solution = minimize(objective, w0, method=\"SLSQP\", bounds=bounds, constraints=constraints)\n",
    "w = solution.x\n",
    "\n",
    "print(\"Objective:\", objective(w))\n",
    "print(\"Solution:\", w)"
   ]
  }
 ],
 "metadata": {
  "kernelspec": {
   "display_name": "Python 3 (ipykernel)",
   "language": "python",
   "name": "python3"
  },
  "language_info": {
   "codemirror_mode": {
    "name": "ipython",
    "version": 3
   },
   "file_extension": ".py",
   "mimetype": "text/x-python",
   "name": "python",
   "nbconvert_exporter": "python",
   "pygments_lexer": "ipython3",
   "version": "3.9.7"
  }
 },
 "nbformat": 4,
 "nbformat_minor": 5
}
