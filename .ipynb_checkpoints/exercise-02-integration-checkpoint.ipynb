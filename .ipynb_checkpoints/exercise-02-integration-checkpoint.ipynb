{
 "cells": [
  {
   "cell_type": "code",
   "execution_count": 1,
   "id": "1b66c982",
   "metadata": {},
   "outputs": [],
   "source": [
    "import numpy as np\n",
    "import matplotlib.pyplot as plt"
   ]
  },
  {
   "cell_type": "code",
   "execution_count": 2,
   "id": "b8ef0993",
   "metadata": {},
   "outputs": [],
   "source": [
    "# define our function f(x) = 3x^2 - 4x\n",
    "# which is actually the derivative of: x^3 -2x^2 + constant\n",
    "def f(x):\n",
    "    return 3*x**2 - 4*x\n",
    "\n",
    "# Calculate the area of a function at given points (aka integration - approximate antiderivative)\n",
    "def area(x, func=f, delta=0.1):\n",
    "    return func(x) * delta\n",
    "\n",
    "# This is the actual anti-derivative of f(x)\n",
    "def antiderivative_f(x):\n",
    "    return x**3 - 2*x**2"
   ]
  },
  {
   "cell_type": "code",
   "execution_count": 3,
   "id": "e429b96f",
   "metadata": {},
   "outputs": [],
   "source": [
    "# Plot the area\n",
    "def plot_functions(min_x=-2, max_x=3, delta=0.1, func=f):\n",
    "    x = np.arange(min_x, max_x, delta)\n",
    "    \n",
    "    auc = area(x, func, delta)\n",
    "    y = auc.cumsum()\n",
    "    \n",
    "    anti = antiderivative_f(x)\n",
    "    \n",
    "    plt.plot(x, y)\n",
    "    plt.plot(x, anti)\n",
    "    \n",
    "    plt.show()"
   ]
  },
  {
   "cell_type": "code",
   "execution_count": 4,
   "id": "f497e945",
   "metadata": {},
   "outputs": [
    {
     "data": {
      "image/png": "[encoded data removed]",
      "text/plain": [
       "<Figure size 432x288 with 1 Axes>"
      ]
     },
     "metadata": {
      "needs_background": "light"
     },
     "output_type": "display_data"
    }
   ],
   "source": [
    "plot_functions()"
   ]
  }
 ],
 "metadata": {
  "kernelspec": {
   "display_name": "Python 3 (ipykernel)",
   "language": "python",
   "name": "python3"
  },
  "language_info": {
   "codemirror_mode": {
    "name": "ipython",
    "version": 3
   },
   "file_extension": ".py",
   "mimetype": "text/x-python",
   "name": "python",
   "nbconvert_exporter": "python",
   "pygments_lexer": "ipython3",
   "version": "3.9.7"
  }
 },
 "nbformat": 4,
 "nbformat_minor": 5
}
