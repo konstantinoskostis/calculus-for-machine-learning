{
 "cells": [
  {
   "cell_type": "code",
   "execution_count": 1,
   "id": "9be33543",
   "metadata": {},
   "outputs": [],
   "source": [
    "import numpy as np"
   ]
  },
  {
   "cell_type": "code",
   "execution_count": 2,
   "id": "92f0417e",
   "metadata": {},
   "outputs": [],
   "source": [
    "# Define the function: x^2 + y^2\n",
    "def f(x, y):\n",
    "    return x*x + y*y\n",
    "\n",
    "# Define gradient of f using partial derivatives (by rules)\n",
    "def gradient_f(x, y):\n",
    "    return (2*x, 2*y)"
   ]
  },
  {
   "cell_type": "code",
   "execution_count": 3,
   "id": "ad8b46f2",
   "metadata": {},
   "outputs": [
    {
     "name": "stdout",
     "output_type": "stream",
     "text": [
      "F(x, y) = x^2 + y^2 at (1, 1) is 2\n",
      "Gradient of F at (1, 1) is (2, 2)\n"
     ]
    }
   ],
   "source": [
    "# Find the gradient at x=1, y=1\n",
    "x, y = 1,1\n",
    "\n",
    "print(\"F(x, y) = x^2 + y^2 at ({}, {}) is {}\".format(x, y, f(x, y)))\n",
    "print(\"Gradient of F at ({}, {}) is {}\".format(x,y, gradient_f(x, y)))"
   ]
  },
  {
   "cell_type": "code",
   "execution_count": 4,
   "id": "06e287d2",
   "metadata": {},
   "outputs": [],
   "source": [
    "# Analytical calculation for validation (aka gradient check)\n",
    "def gradient_check(x, y, step=0.0001):\n",
    "    # 0 to 360 degrees at 0.1-degree steps\n",
    "    angles = np.arange(0, 360, 0.1)\n",
    "\n",
    "    # To keep the size and direction of maximum rate of change\n",
    "    maxdf, maxangle = -np.inf, 0\n",
    "\n",
    "    for angle in angles:\n",
    "        # convert degree to radian\n",
    "        rad = angle * np.pi / 180\n",
    "        # delta x and delta y for a fixed step size\n",
    "        dx, dy = np.sin(rad)*step, np.cos(rad)*step\n",
    "        # rate of change at a small step\n",
    "        df = (f(x+dx, y+dy) - f(x,y))/step\n",
    "        # keep the maximum rate of change\n",
    "        if df > maxdf:\n",
    "            maxdf, maxangle = df, angle\n",
    "\n",
    "    dx, dy = np.sin(maxangle*np.pi/180), np.cos(maxangle*np.pi/180)\n",
    "    grad_x, grad_y = dx * maxdf, dy * maxdf\n",
    "    print(\"[Gradient Check] Analytical Gradient of F at ({}, {}) is {}\".format(x, y, (grad_x, grad_y)))"
   ]
  },
  {
   "cell_type": "code",
   "execution_count": 5,
   "id": "04a9ab22",
   "metadata": {},
   "outputs": [
    {
     "name": "stdout",
     "output_type": "stream",
     "text": [
      "[Gradient Check] Analytical Gradient of F at (1, 1) is (2.000070710675876, 2.0000707106758764)\n"
     ]
    }
   ],
   "source": [
    "gradient_check(x, y)"
   ]
  }
 ],
 "metadata": {
  "kernelspec": {
   "display_name": "Python 3 (ipykernel)",
   "language": "python",
   "name": "python3"
  },
  "language_info": {
   "codemirror_mode": {
    "name": "ipython",
    "version": 3
   },
   "file_extension": ".py",
   "mimetype": "text/x-python",
   "name": "python",
   "nbconvert_exporter": "python",
   "pygments_lexer": "ipython3",
   "version": "3.9.7"
  }
 },
 "nbformat": 4,
 "nbformat_minor": 5
}
